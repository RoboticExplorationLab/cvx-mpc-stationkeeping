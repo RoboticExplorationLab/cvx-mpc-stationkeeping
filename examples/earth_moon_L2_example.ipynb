{
 "cells": [
  {
   "cell_type": "code",
   "execution_count": null,
   "metadata": {},
   "outputs": [],
   "source": [
    "#Convex MPC Stationkeeping for L2 Halo Orbit around L2 \n",
    "# Halo Orbit generated through a differential corrector "
   ]
  },
  {
   "cell_type": "code",
   "execution_count": null,
   "metadata": {},
   "outputs": [],
   "source": [
    "#import the packages from the local environment\n",
    "using Pkg\n",
    "Pkg.activate(joinpath(@__DIR__, \"..\"))"
   ]
  },
  {
   "cell_type": "code",
   "execution_count": null,
   "metadata": {},
   "outputs": [],
   "source": [
    "#packages used \n",
    "using LinearAlgebra\n",
    "using ForwardDiff\n",
    "using SatelliteDynamics\n",
    "using DifferentialEquations\n",
    "using Plots\n",
    "using ECOS, Convex\n",
    "using Mosek, MosekTools\n",
    "using DelimitedFiles"
   ]
  },
  {
   "cell_type": "code",
   "execution_count": null,
   "metadata": {},
   "outputs": [],
   "source": [
    "include(\"../src/dynamics.jl\")\n",
    "include(\"../src/parameters.jl\")\n",
    "include(\"../src/integrate.jl\")\n",
    "include(\"../src/solve.jl\")"
   ]
  },
  {
   "cell_type": "code",
   "execution_count": null,
   "metadata": {},
   "outputs": [],
   "source": [
    "Earth_Moon = ThreeBodySystem_EarthMoon()"
   ]
  },
  {
   "cell_type": "code",
   "execution_count": null,
   "metadata": {},
   "outputs": [],
   "source": [
    "#use a richardson expansion as the initial guess for the differential corrector \n",
    "#saved as a .txt\n",
    "\n",
    "#this reference trajectory was obtained through ThreeBodyProblem.jl\n",
    "#halo from richardson expansion\n",
    "richardson = readdlm(\"../refs/richardsonL2.txt\", '\\t', Float64, '\\n')'\n",
    "\n",
    "#period of the halo (in cr3bp units)\n",
    "T = 3.4071472466192527\n",
    "\n",
    "#period in days\n",
    "T_scaled = T*Earth_Moon.time_scale\n",
    "\n",
    "#initial condition in CR3BP units\n",
    "x0_L2 = richardson[:,1]\n",
    "\n",
    "#scaled initial condition\n",
    "x0_L2_scaled = [x0_L2[1:3]*Earth_Moon.position_scale; x0_L2[4:6]*Earth_Moon.velocity_scale]"
   ]
  },
  {
   "cell_type": "code",
   "execution_count": null,
   "metadata": {},
   "outputs": [],
   "source": [
    "Earth_Moon.acceleration_scale "
   ]
  },
  {
   "cell_type": "code",
   "execution_count": null,
   "metadata": {},
   "outputs": [],
   "source": [
    "#Integrate the dynamics with the initial state of the Richardson expansion as the first state\n",
    "Φ_0 = vec(Matrix(1.0*I, 6,6))\n",
    "x_0_stm = [x0_L2_scaled; Φ_0]\n",
    "\n",
    "solution_in = dynamics_integrate(Earth_Moon ,x_0_stm, T_scaled)\n",
    "\n",
    "all_state_in, stm_in, sol_t_in = get_state_stm(solution_in)"
   ]
  },
  {
   "cell_type": "code",
   "execution_count": null,
   "metadata": {},
   "outputs": [],
   "source": [
    "stm_in "
   ]
  },
  {
   "cell_type": "code",
   "execution_count": null,
   "metadata": {},
   "outputs": [],
   "source": [
    "#this is not the same...\n",
    "initial_norm = all_state_in[:,end] - all_state_in[:,1]"
   ]
  },
  {
   "cell_type": "code",
   "execution_count": null,
   "metadata": {},
   "outputs": [],
   "source": [
    "#If we integrate the richardson expansion on the CR3bp dynamics, it is not completely periodic because it is only an approximation \n",
    "#this is a plot of the integrated orbit\n",
    "\n",
    "plot(all_state_in[1,:], all_state_in[2,:], xlabel=\"x\", ylabel=\"y\")"
   ]
  },
  {
   "cell_type": "code",
   "execution_count": null,
   "metadata": {},
   "outputs": [],
   "source": [
    "#the purpose of the differential corrector is to make the initial and final state of the orbit the same subject to some tolerance\n",
    "\n",
    "#fix the richardson expansion guess with a single shooting differential corrector\n",
    "function differential_corrector(system, x_0_stm, Tp)\n",
    "    \n",
    "    #this is the final time it converges to\n",
    "    T_f = 0\n",
    "\n",
    "    #Iterate to bring the δx at T/2 to the desired state\n",
    "    max_iters = 1000\n",
    "\n",
    "    #keep z0 fixed and change only x0 and y_dot_0\n",
    "    for i=1:max_iters\n",
    "    #for i=1:100\n",
    "\n",
    "        solution = diff_solve(system, x_0_stm, Tp)\n",
    "\n",
    "        #this is the state, STM, and time when y crosses the XZ plane \n",
    "        all_state, stm, sol_t = get_state_stm(solution)\n",
    "\n",
    "        #display(stm)\n",
    "\n",
    "        T2_state = all_state[:,end]\n",
    "\n",
    "        #T2_state -> x,y,z, xdot, ydot, zdot\n",
    "        #desired xdot an xzdot\n",
    "        xz_d = [0, 0]\n",
    "\n",
    "        rv = T2_state[1:6]\n",
    "\n",
    "        rv_dot = three_body_prob_dynamics_scaled(system, rv)\n",
    "\n",
    "        #desired state subtracted by state at t/2\n",
    "        δxz = xz_d - [T2_state[4], T2_state[6]]\n",
    "\n",
    "        #subset of the state transition matrix\n",
    "\n",
    "        #all 6 variables \n",
    "        #stm_s = [stm[4,1] stm[4,3] stm[4,5]; stm[6,1] stm[6,3] stm[6,5]]\n",
    "\n",
    "        #to change x and ydot \n",
    "\n",
    "        #keep z0 constant\n",
    "        #stm_s = [stm[4,1] stm[4,5]; stm[6,1] stm[6,5]]\n",
    "        #dy = [rv_dot[4]; rv_dot[6]]*[stm[2,1] stm[2,5]]\n",
    "\n",
    "        #keep x0 constant\n",
    "        stm_s = [stm[4,3, end] stm[4,5,end]; stm[6,3,end] stm[6,5,end]]\n",
    "        dy = [rv_dot[4]; rv_dot[6]]*[stm[2,3,end] stm[2,5,end]]\n",
    "\n",
    "\n",
    "        #println(\"this is stm s: \")\n",
    "        #println(stm_s)\n",
    "\n",
    "\n",
    "        #keep y0 constant\n",
    "        #stm_s = [stm[4,1] stm[4,3]; stm[6,1] stm[6,3]]\n",
    "        #dy = [rv_dot[4]; rv_dot[6]]*[stm[2,1] stm[2,3]]\n",
    "\n",
    "        delta_x0 = (stm_s - dy/rv_dot[2])\\δxz\n",
    "        \n",
    "        #println(\"THIS IS CONDITION NUMBER\")\n",
    "        #println(cond((stm_s - dy/rv_dot[2])))\n",
    "\n",
    "        #delta_x0 = stm_s\\δxz\n",
    "\n",
    "        #update the initial state\n",
    "\n",
    "        #x_0_stm[1] = x_0_stm[1] + delta_x0[1]\n",
    "        x_0_stm[3] = x_0_stm[3] + delta_x0[1]\n",
    "        x_0_stm[5] = x_0_stm[5] + delta_x0[2]\n",
    "\n",
    "        #x_0_stm[1:6] = x_0_stm[1:6] + delta\n",
    "        #when delta is below a set tolerance we are done\n",
    "\n",
    "        println(\"residual: \", δxz)\n",
    "        \n",
    "        #loosen up the tolerance bc of the scaling of the problem\n",
    "        if norm(δxz) < 1e-6\n",
    "\n",
    "            #this is the total time, but we use it to ensure we have enough time to find where\n",
    "            #y crosses the xz plane\n",
    "            #print(\"this is sol t: \", sol_t)\n",
    "            #updating time\n",
    "                    \n",
    "            T_f = sol_t[end]*2\n",
    "            break\n",
    "        end\n",
    "\n",
    "    end\n",
    "    \n",
    "    corrected_solution = dynamics_integrate(system, x_0_stm, T_f)\n",
    "\n",
    "    all_state_final, stm_final, sol_t_final = get_state_stm(corrected_solution)\n",
    "    \n",
    "    return all_state_final, stm_final, sol_t_final, corrected_solution\n",
    "    \n",
    "end"
   ]
  },
  {
   "cell_type": "code",
   "execution_count": null,
   "metadata": {},
   "outputs": [],
   "source": [
    "#run the differential corrector to get the corrected solution\n",
    "all_state_final, stm_final, sol_t_final, full_solution = differential_corrector(Earth_Moon, x_0_stm, T_scaled)"
   ]
  },
  {
   "cell_type": "code",
   "execution_count": null,
   "metadata": {},
   "outputs": [],
   "source": [
    "all_state_final "
   ]
  },
  {
   "cell_type": "code",
   "execution_count": null,
   "metadata": {},
   "outputs": [],
   "source": [
    "#this is the halo after the differential corrector \n",
    "plot(all_state_final[1,:], all_state_final[2,:], all_state_final[3,:])"
   ]
  },
  {
   "cell_type": "code",
   "execution_count": null,
   "metadata": {},
   "outputs": [],
   "source": [
    "all_state_final[:,1] "
   ]
  },
  {
   "cell_type": "code",
   "execution_count": null,
   "metadata": {},
   "outputs": [],
   "source": [
    "#i don't think we use this trajectory, will prob ciomment out...\n",
    "\n",
    "#create a 2 orbit horizon reference trajectory\n",
    "# periodic_initial_condition2 = all_state_final[:,1]\n",
    "\n",
    "# #Integrate the dynamics with the perturbed initial condtition\n",
    "# Φ_0 = vec(Matrix(1.0*I, 6,6))\n",
    "# x_0_periodic2 = [periodic_initial_condition2; Φ_0]\n",
    "\n",
    "# #integrate for 2 revs\n",
    "# solution_periodic2 = dynamics_integrate(Earth_Moon, x_0_periodic2, 2*sol_t_final[end])\n",
    "\n",
    "# all_state_2, stm_in_2, sol_t_in_2 = get_state_stm(solution_periodic2)"
   ]
  },
  {
   "cell_type": "code",
   "execution_count": null,
   "metadata": {},
   "outputs": [],
   "source": [
    "#Check when the orbit leaves\n",
    "periodic_initial_condition = all_state_final[:,1]\n",
    "\n",
    "#Integrate the dynamics with the perturbed initial condtition\n",
    "Φ_0 = vec(Matrix(1.0*I, 6,6))\n",
    "x_0_periodic = [periodic_initial_condition; Φ_0]\n",
    "\n",
    "#integrate for 3.5 revs\n",
    "solution_periodic = dynamics_integrate(Earth_Moon, x_0_stm, 3.5*sol_t_final[end])\n",
    "\n",
    "all_state_lp, stm_in_lp, sol_t_in_lp = get_state_stm(solution_periodic)"
   ]
  },
  {
   "cell_type": "code",
   "execution_count": null,
   "metadata": {},
   "outputs": [],
   "source": [
    "#the orbit after 3.5 revs \n",
    "plot(all_state_lp[1,:], all_state_lp[2,:], all_state_lp[3,:], aspectratio=true)"
   ]
  },
  {
   "cell_type": "code",
   "execution_count": null,
   "metadata": {},
   "outputs": [],
   "source": [
    "#as seen above, after about 3.5 periods it begins to diverge from the periodic orbit \n",
    "#will formulate as a convex optimiztion problem to generate the station keeping \n",
    "#maneuvers"
   ]
  },
  {
   "cell_type": "code",
   "execution_count": null,
   "metadata": {},
   "outputs": [],
   "source": [
    "nx = 6 #number of states\n",
    "nu = 3 #number of controls \n",
    "\n",
    "N_period = 41  #41 knot points per period per period\n",
    "\n",
    "#the first state repeats with the last state\n",
    "N_h = 81 #horizon 2 periods\n",
    "\n",
    "#timestep \n",
    "Δt = (sol_t_final[end]/(N_period-1))"
   ]
  },
  {
   "cell_type": "code",
   "execution_count": null,
   "metadata": {},
   "outputs": [],
   "source": [
    "#variables to save all the dynamics jacobians this is along 1 period of the reference orbit\n",
    "all_Ad = zeros(6,6,N_period)\n",
    "all_Bd = zeros(6,3,N_period)"
   ]
  },
  {
   "cell_type": "code",
   "execution_count": null,
   "metadata": {},
   "outputs": [],
   "source": [
    "#this is the corrected period from the differential corrector\n",
    "T_corrected = sol_t_final[end]"
   ]
  },
  {
   "cell_type": "code",
   "execution_count": null,
   "metadata": {},
   "outputs": [],
   "source": [
    "#create even timesteps along the horizon \n",
    "horizon = LinRange(0, T_corrected, N_period)"
   ]
  },
  {
   "cell_type": "code",
   "execution_count": null,
   "metadata": {},
   "outputs": [],
   "source": [
    "#used to save the state transition matrix at each knot point\n",
    "stm_times = zeros((6,6,N_period))"
   ]
  },
  {
   "cell_type": "code",
   "execution_count": null,
   "metadata": {},
   "outputs": [],
   "source": [
    "#get the reference trajectory and state transition matrices at the correct times along the horizon \n",
    "reference_trajectory = zeros(nx, N_period)\n",
    "\n",
    "for k=1:N_period\n",
    "\n",
    "    reference_trajectory[:,k] = full_solution(horizon).u[k][1:6]\n",
    "    \n",
    "    #save the reference state transition matrices at the dedicated timesteps\n",
    "    \n",
    "    stm_times[:,:,k] = reshape(full_solution(horizon).u[k][7:end], (6,6)) \n",
    "        \n",
    "end"
   ]
  },
  {
   "cell_type": "code",
   "execution_count": null,
   "metadata": {},
   "outputs": [],
   "source": [
    "#monodromy is the stm at the end of the periodic orbit\n",
    "monodromy_eigen = eigen(stm_times[:,:,end])\n",
    "\n",
    "stable_dir = real(monodromy_eigen.vectors[:,1])\n",
    "unstable_dir = real(monodromy_eigen.vectors[:,end])\n",
    "#find the eigen values of the monodromy"
   ]
  },
  {
   "cell_type": "code",
   "execution_count": null,
   "metadata": {},
   "outputs": [],
   "source": [
    "#save the unstable directions in a matrix\n",
    "unstable_directions = zeros(6,N_period)"
   ]
  },
  {
   "cell_type": "code",
   "execution_count": null,
   "metadata": {},
   "outputs": [],
   "source": [
    "#the unstable directions are then the stm at the timestep multiplied by the unstable direction found by the monodromy\n",
    "for k = 1:N_period\n",
    "    \n",
    "    unstable_directions[:,k] = (stm_times[:,:,k]*unstable_dir)/norm(stm_times[:,:,k]*unstable_dir)\n",
    "    \n",
    "end"
   ]
  },
  {
   "cell_type": "code",
   "execution_count": null,
   "metadata": {},
   "outputs": [],
   "source": [
    "#unstable directions for the unstable manifolds along the orbit\n",
    "unstable_directions"
   ]
  },
  {
   "cell_type": "code",
   "execution_count": null,
   "metadata": {},
   "outputs": [],
   "source": [
    "#save the manifolds when perturbation is added \n",
    "all_manifolds_plus = Matrix{Float64}[]\n",
    "\n",
    "#save the manifolds when perturbation is subtracted \n",
    "all_manifolds_minus = Matrix{Float64}[]"
   ]
  },
  {
   "cell_type": "code",
   "execution_count": null,
   "metadata": {},
   "outputs": [],
   "source": [
    "#plot the manifolds\n",
    "#+ manifold to the right\n",
    "# - manifold to the left\n",
    "\n",
    "#epsilon multiplied by the perturbation when finding the manifolds \n",
    "epz = 3\n",
    "\n",
    "plot(reference_trajectory[1,:], reference_trajectory[2,:], label=nothing)\n",
    "\n",
    "all_state_mplus = 0\n",
    "\n",
    "all_state_mminus = 0\n",
    "for i=1:N_period\n",
    " \n",
    "    initial_state_plus = reference_trajectory[:,i] + epz.*[unstable_directions[1:3,i];zeros(3)]\n",
    "\n",
    "    initial_state_minus = reference_trajectory[:,i] - epz.*[unstable_directions[1:3,i];zeros(3)]\n",
    "\n",
    "    inv_manifold_plus = just_dynamics_integrate(Earth_Moon, initial_state_plus, 1.5*sol_t_final[end])\n",
    "\n",
    "    inv_manifold_minus = just_dynamics_integrate(Earth_Moon, initial_state_minus, 1.45*sol_t_final[end])\n",
    "\n",
    "    all_state_mplus = get_state(inv_manifold_plus)\n",
    "\n",
    "    all_state_mminus = get_state(inv_manifold_minus)\n",
    "    \n",
    "\n",
    "    push!(all_manifolds_plus, all_state_mplus)\n",
    "    push!(all_manifolds_minus, all_state_mminus)\n",
    "\n",
    "\n",
    "    plot!(all_state_mplus[1,:], all_state_mplus[2,:], color=\"red\", label=nothing)\n",
    "    plot!(all_state_mminus[1,:], all_state_mminus[2,:], color=\"orange\", label=nothing)\n",
    "\n",
    "end\n",
    "\n",
    "\n",
    "plot!(all_state_mplus[1,:], all_state_mplus[2,:], color=\"red\", label = \"Unstable Invariant Manifold +\")\n",
    "plot!(all_state_mminus[1,:], all_state_mminus[2,:], color=\"orange\", label = \"Unstable Invariant Manifold -\")\n",
    "\n",
    "plot!(reference_trajectory[1,:], reference_trajectory[2,:], label=\"Reference Halo Orbit\", linewidth = 5, xlabel = \"X (km)\", ylabel = \"Y (km)\", color=\"blue\")\n",
    "orbit_manifolds = scatter!([Earth_Moon.XL2[1]*Earth_Moon.position_scale], [0], markercolor = \"green\", label = \"L2\", legend=true, title = \"L2 Halo Orbit with Unstable Invariant Manifolds\")"
   ]
  },
  {
   "cell_type": "code",
   "execution_count": null,
   "metadata": {},
   "outputs": [],
   "source": [
    "#get the discrete dynamics jacobians for the entire reference trajectory along the knot points\n",
    "for i=1:N_period\n",
    "\n",
    "    all_Ad[:,:,i] = ForwardDiff.jacobian(x_-> RK4_integrator(Earth_Moon, x_, zeros(3)), reference_trajectory[:,i])\n",
    "\n",
    "\n",
    "    all_Bd[:,:,i] = ForwardDiff.jacobian(u_-> RK4_integrator(Earth_Moon, reference_trajectory[:,i], u_), zeros(3))\n",
    "    \n",
    "    \n",
    "end"
   ]
  },
  {
   "cell_type": "code",
   "execution_count": null,
   "metadata": {},
   "outputs": [],
   "source": [
    "#our horizon is 2 revolutions, therefore we need jacobians along the entire horizon\n",
    "#will concatenate jacobians for two periods\n",
    "\n",
    "all_Ad_1 = cat(all_Ad, all_Ad[:,:,2:end], dims=3)\n",
    "all_Bd_1 = cat(all_Bd, all_Bd[:,:,2:end], dims=3)"
   ]
  },
  {
   "cell_type": "code",
   "execution_count": null,
   "metadata": {},
   "outputs": [],
   "source": [
    "#compute backward ricatti recursion\n",
    "\n",
    "#cost to go matrices for 16 revs\n",
    "P = zeros((6,6,N_period+((N_period-1)*15))) #size state x state (6x6) \n",
    "K = zeros((3,6,N_period+((N_period-1)*15))) #size control x state (3x6)\n",
    "\n",
    "#state cost weight matrix\n",
    "Q = 1.0*Matrix(I,6,6).*1e-3\n",
    "\n",
    "#terminal cost weight matrix\n",
    "Qf = 1.0*Matrix(I,6,6).*1e-3\n",
    "\n",
    "#control cost weight matrix\n",
    "R = 1.0*Matrix(I,3,3).*1e3"
   ]
  },
  {
   "cell_type": "code",
   "execution_count": null,
   "metadata": {},
   "outputs": [],
   "source": [
    "#variable to concatenate 16 sets of jacobians for 16 revolutions. this is to compute the recursion until we get a periodic pattern\n",
    "all_Ad_16 = all_Ad\n",
    "all_Bd_16 = all_Bd"
   ]
  },
  {
   "cell_type": "code",
   "execution_count": null,
   "metadata": {},
   "outputs": [],
   "source": [
    "for i = 2:16\n",
    "    all_Ad_16 = cat(all_Ad_16, all_Ad[:,:,2:end], dims = 3)\n",
    "    all_Bd_16 = cat(all_Bd_16, all_Bd[:,:,2:end], dims = 3)\n",
    "end"
   ]
  },
  {
   "cell_type": "code",
   "execution_count": null,
   "metadata": {},
   "outputs": [],
   "source": [
    "#Ricatti recursion over approximately 7 periods\n",
    "P[:,:,end] = Qf\n",
    "\n",
    "for k = reverse(1:640)\n",
    "    #println(k)    \n",
    "    K[:,:,k] = (R + all_Bd_16[:,:,k]'*P[:,:,k+1]*all_Bd_16[:,:,k])\\(all_Bd_16[:,:,k]'*P[:,:,k+1]*all_Ad_16[:,:, k]) # ricatti recursion for both A and B matrices changing\n",
    "    P[:,:,k] = Q + all_Ad_16[:,:,k]'*P[:,:,k+1]*all_Ad_16[:,:,k] - all_Ad_16[:,:,k]'*P[:,:,k+1]*all_Bd_16[:,:,k]*K[:,:,k]\n",
    "        \n",
    "end"
   ]
  },
  {
   "cell_type": "code",
   "execution_count": null,
   "metadata": {},
   "outputs": [],
   "source": [
    "P[:,:,1]"
   ]
  },
  {
   "cell_type": "code",
   "execution_count": null,
   "metadata": {},
   "outputs": [],
   "source": [
    "#can plot each diagonal element of the cost to go to see that it is periodic..\n",
    "plot(P[1,1,:])\n",
    "#plot(P[2,2,:])\n",
    "#plot(P[3,3,:])\n",
    "#plot(P[4,4,:])\n",
    "#plot(P[5,5,:])\n",
    "#plot(P[6,6,:])"
   ]
  },
  {
   "cell_type": "code",
   "execution_count": null,
   "metadata": {},
   "outputs": [],
   "source": [
    "#cost to go converges and is periodic! will get one orbit of the cost to go to make a constraint\n",
    "V = P[:,:,1:41]"
   ]
  },
  {
   "cell_type": "code",
   "execution_count": null,
   "metadata": {},
   "outputs": [],
   "source": [
    "#cost to go matrices for 2 orbits worth of data\n",
    "V_2orbits = cat(V, V[:,:,2:end], dims=3)\n",
    "\n",
    "#unstable manifold directions for 2 orbits worth of data \n",
    "unstable_directions_2 = cat(unstable_directions, unstable_directions[:, 2:end], dims=2)"
   ]
  },
  {
   "cell_type": "code",
   "execution_count": null,
   "metadata": {},
   "outputs": [],
   "source": [
    "#define the injection error, how far we are off from the initial condition of the halo \n",
    "\n",
    "#in cr3bp units \n",
    "x_initial_ref = [1e-6, 0, 0, 0, 1811.22e-6, 0]\n",
    "\n",
    "#in km and days \n",
    "x_initial_ref_scaled = [x_initial_ref[1:3]*Earth_Moon.position_scale; x_initial_ref[4:6]*Earth_Moon.velocity_scale]"
   ]
  },
  {
   "cell_type": "code",
   "execution_count": null,
   "metadata": {},
   "outputs": [],
   "source": [
    "#define the tube radii\n",
    "\n",
    "#position radius\n",
    "tube_pose_r = 1000\n",
    "\n",
    "#velocity radius \n",
    "tube_vel_r = 1000"
   ]
  },
  {
   "cell_type": "code",
   "execution_count": null,
   "metadata": {},
   "outputs": [],
   "source": [
    "#find the axis lengths for each of these P matrices\n",
    "\n",
    "all_axes_length = zeros(6, 81) \n",
    "\n",
    "for i= 1:81\n",
    "\n",
    "    P_i = V_2orbits[:,:,i]\n",
    "\n",
    "    vals_i = eigen(P_i).values  \n",
    "\n",
    "    axes_length_i = 2 ./ (sqrt.(vals_i))\n",
    "\n",
    "    all_axes_length[:,i] = axes_length_i    \n",
    "\n",
    "end\n",
    "\n",
    "#velocity axes lenghts are much smaller than position since a larger deviation will lead to a larger cost in the long run"
   ]
  },
  {
   "cell_type": "code",
   "execution_count": null,
   "metadata": {},
   "outputs": [],
   "source": [
    "#this is the reference trajectory for 2 orbits starting at the beginning\n",
    "reference_trajectory2 = [reference_trajectory reference_trajectory[:,2:end]]\n",
    "\n",
    "\n",
    "reference_trajectory_half = cat(reference_trajectory[:,21:end], reference_trajectory[:,2:21], dims=2)\n",
    "\n",
    "#this is the reference trajectory starting at the half, timesteo 21\n",
    "reference_trajectory2_2 = cat(reference_trajectory_half, reference_trajectory_half[:,2:end], dims=2)"
   ]
  },
  {
   "cell_type": "code",
   "execution_count": null,
   "metadata": {},
   "outputs": [],
   "source": [
    "#this scales the axes on the cost-to-go ellipsoid. \n",
    "epsilon = 1e4\n",
    "\n",
    "#parameter for the contingency constraint \n",
    "a = 1e-2"
   ]
  },
  {
   "cell_type": "code",
   "execution_count": null,
   "metadata": {},
   "outputs": [],
   "source": [
    "#define the state constraint type\n",
    "\n",
    "#\"euc\" for the Euclidean ball constraint \n",
    "constraint_type = \"euc\"\n",
    "\n",
    "#\"ctg\" for the cost-to-go ellipsoid constraint \n",
    "#constraint_type = \"ctg\""
   ]
  },
  {
   "cell_type": "code",
   "execution_count": null,
   "metadata": {},
   "outputs": [],
   "source": [
    "#one solve test\n",
    "display(\"updating prob\")\n",
    "cons, X_1, U_1 = update_prob(Earth_Moon, x_initial_ref_scaled, all_Ad_1, all_Bd_1, V_2orbits, unstable_directions_2, reference_trajectory2, constraint_type)\n",
    "display(\"solving\")\n",
    "display(X_1)\n",
    "Xm_1, Um_1 = solve_opt(cons, X_1, U_1, N_h)"
   ]
  },
  {
   "cell_type": "code",
   "execution_count": null,
   "metadata": {},
   "outputs": [],
   "source": [
    "Xm_1 "
   ]
  },
  {
   "cell_type": "code",
   "execution_count": null,
   "metadata": {},
   "outputs": [],
   "source": [
    "Um_1 "
   ]
  },
  {
   "cell_type": "code",
   "execution_count": null,
   "metadata": {},
   "outputs": [],
   "source": [
    "#check the constraint satisfaction on the manifold constraint\n",
    "# constraint_satisfied = zeros(N_h)\n",
    "\n",
    "# for i=1:N_h\n",
    "#     constraint_satisfied[i] = dot(Xm[:,i], unstable_directions_2[:,i])\n",
    "# end"
   ]
  },
  {
   "cell_type": "code",
   "execution_count": null,
   "metadata": {},
   "outputs": [],
   "source": [
    "#all_Ad_1 and all_Bd_1 are the set of jacobians for two revoltions when we start at the beginning of the orbit \n",
    "#all_Ad_2 and all_Bd_2 are the set of jacobians for two revolutions when we start in the middle of the orbit \n",
    "\n",
    "all_Ad_half = cat(all_Ad[:,:,21:end], all_Ad[:,:,2:21], dims=3)\n",
    "all_Bd_half = cat(all_Bd[:,:,21:end], all_Bd[:,:,2:21], dims=3)\n",
    "\n",
    "all_Ad_2 = cat(all_Ad_half, all_Ad_half[:,:,2:end], dims = 3)\n",
    "all_Bd_2 = cat(all_Bd_half, all_Bd_half[:,:,2:end], dims=3)\n",
    "\n",
    "#also need to get the unstable directions and cost-to-go at the half point for two revoltions\n",
    "\n",
    "#unstable directions is good. Need to fix V_2orbits\n",
    "unstable_directions_half = cat(unstable_directions[:,21:end], unstable_directions[:,2:21], dims=2)\n",
    "\n",
    "#P is for the 16 orbits. Need the one for just 1 orbit\n",
    "V_half = cat(V[:,:,21:end], V[:,:,2:21], dims=3)\n",
    "\n",
    "\n",
    "#unstable directions if you start from the beginning\n",
    "unstable_directions_2_1 = unstable_directions_2\n",
    "#this is the unstable direction if you start at the half\n",
    "unstable_directions_2_2 = cat(unstable_directions_half, unstable_directions_half[:,2:end], dims=2)\n",
    "\n",
    "\n",
    "#cost to go if you start from the beginning\n",
    "V_2orbits_1 = V_2orbits\n",
    "\n",
    "#cost to go in you start at the half\n",
    "V_2orbits_2 = cat(V_half, V_half[:,:,2:end], dims=3)"
   ]
  },
  {
   "cell_type": "code",
   "execution_count": null,
   "metadata": {},
   "outputs": [],
   "source": [
    "#run the MPC \n",
    "\n",
    "orbit_count = 0\n",
    "\n",
    "#number of orbits you want to plan go for\n",
    "orbit_num = 100\n",
    "\n",
    "halforbit_num = orbit_num*2 \n",
    "\n",
    "#this is for each orbit plan\n",
    "\n",
    "optimal_Δx = zeros(nx, N_period)\n",
    "optimal_u = zeros(nu, N_period-1)\n",
    "\n",
    "#data for all the orbits\n",
    "all_optimal_Δx = zeros(nx, 21, halforbit_num)\n",
    "all_optimal_x = zeros(nx, 21, halforbit_num)\n",
    "all_optimal_u = zeros(nu, 20, halforbit_num)\n",
    "\n",
    "#save the solution of each solve \n",
    "solution_xm = zeros(6, 81, halforbit_num)\n",
    "solution_um = zeros(6, 80, halforbit_num)\n",
    "\n",
    " \n",
    "for i=1:halforbit_num\n",
    "\n",
    "    \n",
    "    #if you start from the beginning use the appropriate set of jacobians\n",
    "    if i%2 != 0\n",
    "        #println(\"using jacobian set 1\")\n",
    "        all_Ad_k = all_Ad_1\n",
    "        all_Bd_k = all_Bd_1\n",
    "        unstable_directions_k = unstable_directions_2_1\n",
    "        P_k = V_2orbits_1 \n",
    "        reference_traj_k = reference_trajectory2       \n",
    "    else\n",
    "        #println(\"using jacobian set 2\")\n",
    "        all_Ad_k = all_Ad_2\n",
    "        all_Bd_k = all_Bd_2\n",
    "        unstable_directions_k = unstable_directions_2_2\n",
    "        P_k = V_2orbits_2\n",
    "        reference_traj_k = reference_trajectory2_2\n",
    "    end\n",
    "    \n",
    "    #the zeros is the bias \n",
    "    cons, X, U = update_prob(Earth_Moon, x_initial_ref_scaled, all_Ad_k, all_Bd_k, P_k, unstable_directions_k, reference_traj_k, constraint_type)\n",
    "        \n",
    "    Xm, Um = solve_opt(cons, X, U,N_h)\n",
    "\n",
    "    solution_xm = Xm\n",
    "    solution_um = Um\n",
    "    \n",
    "    #get the optimal controls for half a period (20 for this example)\n",
    "    optimal_u = Um[:,1:20]\n",
    "        \n",
    "    #size N_period\n",
    "        \n",
    "    orbit_count += 1\n",
    "    \n",
    "    #rollout on the nonlinear dynamics\n",
    "    if i%2 != 0\n",
    "        \n",
    "        #print(\"from beginning\")\n",
    "        xtraj_halfperiod = integrate_halfperiod(Earth_Moon, reference_trajectory[:,1] + Xm[:,1], optimal_u)\n",
    "\n",
    "        #this is the deviation from the reference\n",
    "        all_optimal_Δx[:,:,orbit_count] = xtraj_halfperiod - reference_trajectory[:,1:21]\n",
    "        \n",
    "        #integrate the initial condition by all the optimal controls from the solver        \n",
    "    else\n",
    "        \n",
    "        #println(\"from half\")\n",
    "\n",
    "        #this Xm is the one that just got computed\n",
    "        xtraj_halfperiod = integrate_halfperiod(Earth_Moon, reference_trajectory[:,21] + Xm[:,1], optimal_u)\n",
    "\n",
    "        all_optimal_Δx[:,:,orbit_count] = xtraj_halfperiod - reference_trajectory[:,21:41] \n",
    "        #integrate the initial condition by all the optimal controls from the solver\n",
    "        \n",
    "    end\n",
    "    \n",
    "    all_optimal_x[:,:,orbit_count] = xtraj_halfperiod\n",
    "    \n",
    "    all_optimal_u[:,:,orbit_count] = optimal_u\n",
    "    \n",
    "    println(\"Half Revolution solved: \", i)\n",
    "    \n",
    "    #update the intiial condition for the next rev (has to be a delta)\n",
    "    x_initial_ref_scaled = all_optimal_Δx[:,end, orbit_count]\n",
    "\n",
    "    \n",
    "end  "
   ]
  },
  {
   "cell_type": "code",
   "execution_count": null,
   "metadata": {},
   "outputs": [],
   "source": [
    "all_optimal_u"
   ]
  },
  {
   "cell_type": "code",
   "execution_count": null,
   "metadata": {},
   "outputs": [],
   "source": [
    "#format the outputin 3D arrays. put all the half trajectory solutions together \n",
    "all_optimal_x_formatted = zeros(6, N_period, orbit_num)\n",
    "all_optimal_Δx_formatted = zeros(6, N_period, orbit_num)"
   ]
  },
  {
   "cell_type": "code",
   "execution_count": null,
   "metadata": {},
   "outputs": [],
   "source": [
    "for i=1:orbit_num\n",
    "    \n",
    "    all_optimal_x_formatted[:,1:21,i] = all_optimal_x[:,:,(2*i-1)]\n",
    "    \n",
    "    #2:end is used to not repeat the same element twice\n",
    "    all_optimal_x_formatted[:,22:end,i] = all_optimal_x[:,2:end,(2*i)]\n",
    "    \n",
    "    \n",
    "    all_optimal_Δx_formatted[:,1:21,i] = all_optimal_Δx[:,:,(2*i-1)]\n",
    "    \n",
    "    all_optimal_Δx_formatted[:,22:end,i] = all_optimal_Δx[:,2:end,(2*i)]\n",
    "    \n",
    "end"
   ]
  },
  {
   "cell_type": "code",
   "execution_count": null,
   "metadata": {},
   "outputs": [],
   "source": [
    "#format to 2D arrays \n",
    "all_xtraj = reshape(all_optimal_x_formatted, (6, N_period*orbit_num))\n",
    "\n",
    "all_Δxtraj = reshape(all_optimal_Δx_formatted, (6, N_period*orbit_num))\n",
    "\n",
    "all_utraj = reshape(all_optimal_u, (3, (N_period-1)*orbit_num))"
   ]
  },
  {
   "cell_type": "code",
   "execution_count": null,
   "metadata": {},
   "outputs": [],
   "source": [
    "normz = zeros(4100)\n",
    "for i=1:4100\n",
    "    normz[i] = norm(all_Δxtraj[:,i])\n",
    "end"
   ]
  },
  {
   "cell_type": "code",
   "execution_count": null,
   "metadata": {},
   "outputs": [],
   "source": [
    "#state norm for the entire trajectory \n",
    "plot(normz )"
   ]
  },
  {
   "cell_type": "code",
   "execution_count": null,
   "metadata": {},
   "outputs": [],
   "source": [
    "#horizon for a 10 revolution trajectory in days\n",
    "days_range = range(0,409, 410)\n",
    "\n",
    "days = collect(days_range)*Δt"
   ]
  },
  {
   "cell_type": "code",
   "execution_count": null,
   "metadata": {},
   "outputs": [],
   "source": [
    "Δt "
   ]
  },
  {
   "cell_type": "code",
   "execution_count": null,
   "metadata": {},
   "outputs": [],
   "source": [
    "#this plots orbits 10-20\n",
    "\n",
    "#for euclidean constraint \n",
    "# plot_range_x = (-1.5e-8, 1e-8)\n",
    "# plot_range_y = (-1.5e-8, 1e-8)\n",
    "# plot_range_z = (-1.5e-8, 1e-8)\n",
    "\n",
    "\n",
    "#for ctg constraint \n",
    "plot_range_x = (-1e-9, 1.5e-9)\n",
    "plot_range_y = (-1e-8, 1e-8)\n",
    "plot_range_z = (-1.5e-8, 1e-8)\n",
    "\n",
    "\n",
    "plot1 = plot(days, all_utraj[1,410:819]*1e3/86400^2, linewidth = 2,ylim = plot_range_x, title= \"X Control\")\n",
    "plot2 = plot(days, all_utraj[2,410:819]*1e3/86400^2, linewidth = 2, ylim = plot_range_y, title= \"Y Control\", linecolor=\"red\")\n",
    "plot3 = plot(days , all_utraj[3,410:819]*1e3/86400^2, linewidth=2, ylim = plot_range_z, title= \"Z Control\", linecolor=\"green\")\n",
    "\n",
    "\n",
    "plot_layout = @layout [a;\n",
    "                       b; \n",
    "                       c]\n",
    "\n",
    "control1020 = plot(plot1, plot2, plot3, layout=plot_layout, legend=false, xlabel=\"Days\", xlabelfontsize=8, ylabel=\"Force (N)\", ylabelfontsize=8, ytickfontsize = 6)"
   ]
  },
  {
   "cell_type": "code",
   "execution_count": null,
   "metadata": {},
   "outputs": [],
   "source": [
    "plot(all_utraj[1,410:430]) "
   ]
  },
  {
   "cell_type": "code",
   "execution_count": null,
   "metadata": {},
   "outputs": [],
   "source": [
    "plot(all_utraj[1, 410:450])"
   ]
  },
  {
   "cell_type": "code",
   "execution_count": null,
   "metadata": {},
   "outputs": [],
   "source": [
    "plot(all_utraj[2, 410:450])"
   ]
  },
  {
   "cell_type": "code",
   "execution_count": null,
   "metadata": {},
   "outputs": [],
   "source": [
    "all_utraj[2, 410:429] "
   ]
  },
  {
   "cell_type": "code",
   "execution_count": null,
   "metadata": {},
   "outputs": [],
   "source": [
    "all_utraj[1, 410:429]"
   ]
  },
  {
   "cell_type": "code",
   "execution_count": null,
   "metadata": {},
   "outputs": [],
   "source": [
    "#burn locations plot\n",
    "burn_locations = plot(reference_trajectory[1,:], reference_trajectory[2,:], reference_trajectory[3,:], linewidth = 3, title= \"Burn Locations\", label = \"L2 Halo Orbit\", legend=:topright)\n",
    "scatter!([reference_trajectory[1,12]],[reference_trajectory[2,12]],[reference_trajectory[3,12]], label=\"X Burn\", markersize = 7, xlabel=\"X [km]\", ylabel = \"                 Y [km]\", zlabel=\"Z [km]\", \n",
    "ylabelfontsize=6, ytickfontsize = 6, xlabelfontsize=6, xtickfontsize = 6, zlabelfontsize=6, ztickfontsize = 6)\n",
    "scatter!([reference_trajectory[1,12], reference_trajectory[1,14], reference_trajectory[1,31]],[reference_trajectory[2,12], reference_trajectory[2,14], reference_trajectory[2,31]],[reference_trajectory[3,12],reference_trajectory[3,14], reference_trajectory[3,31]], label=\"Y Burn\", markersize = 4)"
   ]
  },
  {
   "cell_type": "code",
   "execution_count": null,
   "metadata": {},
   "outputs": [],
   "source": [
    "#plot the 100 orbits\n",
    "\n",
    "plot(all_xtraj[1,:], all_xtraj[2,:], all_xtraj[3,:], label=\"MPC Trajectory\", title=\"MPC Trajectory\")\n",
    "\n",
    "scatter!([all_xtraj[1,1]], [all_xtraj[2,1]], [all_xtraj[3,1]], label=\"Start\")\n",
    "\n",
    "plot!(reference_trajectory[1,:], reference_trajectory[2,:], reference_trajectory[3,:], label = \"Reference Trajectory\")"
   ]
  },
  {
   "cell_type": "code",
   "execution_count": null,
   "metadata": {},
   "outputs": [],
   "source": [
    "#this is already in units of km/(days)^2\n",
    "scaled_control = all_utraj"
   ]
  },
  {
   "cell_type": "code",
   "execution_count": null,
   "metadata": {},
   "outputs": [],
   "source": [
    "#integrate over the timestep to get the velocity cost in km/day\n",
    "x_cost = sum(abs.(scaled_control[1,:]))*(Δt)\n",
    "y_cost = sum(abs.(scaled_control[2,:]))*(Δt)\n",
    "z_cost = sum(abs.(scaled_control[3,:]))*(Δt)"
   ]
  },
  {
   "cell_type": "code",
   "execution_count": null,
   "metadata": {},
   "outputs": [],
   "source": [
    "#velocity cost in m/s\n",
    "#dividing by 86400 to get into seconds bc currently it is in days\n",
    "\n",
    "#units are good (checked in simulation_test)\n",
    "x_cost_ms = x_cost*(1e3/86400)\n",
    "y_cost_ms = y_cost*(1e3/86400)\n",
    "z_cost_ms = z_cost*(1e3/86400)\n",
    "\n",
    "display(x_cost_ms)\n",
    "display(y_cost_ms)\n",
    "display(z_cost_ms)"
   ]
  },
  {
   "cell_type": "code",
   "execution_count": null,
   "metadata": {},
   "outputs": [],
   "source": [
    "all_cost = x_cost_ms + y_cost_ms + z_cost_ms  "
   ]
  },
  {
   "cell_type": "code",
   "execution_count": null,
   "metadata": {},
   "outputs": [],
   "source": [
    "cost_per_rev = all_cost/orbit_num"
   ]
  },
  {
   "cell_type": "code",
   "execution_count": null,
   "metadata": {},
   "outputs": [],
   "source": [
    "#Exclude the first 10 timesteps to fix the injection error\n",
    "x_cost_good = sum(abs.(scaled_control[1,42:end]))*(Δt) *(1e3/86400)\n",
    "y_cost_good = sum(abs.(scaled_control[2,42:end]))*(Δt) *(1e3/86400)\n",
    "z_cost_good = sum(abs.(scaled_control[3,42:end]))*(Δt) *(1e3/86400)\n",
    "\n",
    "display(x_cost_good)\n",
    "display(y_cost_good)\n",
    "display(z_cost_good)"
   ]
  },
  {
   "cell_type": "code",
   "execution_count": null,
   "metadata": {},
   "outputs": [],
   "source": [
    "# #cost for 95 revs\n",
    "all_cost_good = x_cost_good + y_cost_good + z_cost_good "
   ]
  },
  {
   "cell_type": "code",
   "execution_count": null,
   "metadata": {},
   "outputs": [],
   "source": [
    "#get the cost per year \n",
    "\n",
    "year_constant = 365/sol_t_final[end] \n",
    "\n",
    "year_cost = cost_per_rev*year_constant "
   ]
  },
  {
   "cell_type": "code",
   "execution_count": null,
   "metadata": {},
   "outputs": [],
   "source": [
    "#check the constraint for the manifold direction \n",
    "constraint_check = zeros(4100)\n",
    "for k=1:100\n",
    "    for i=1:41\n",
    "\n",
    "        constraint_check[41*(k-1)+i] = dot(unstable_directions[:,i], all_Δxtraj[:, 41*(k-1)+i]) #> 0 \n",
    "\n",
    "    end\n",
    "end"
   ]
  },
  {
   "cell_type": "code",
   "execution_count": null,
   "metadata": {},
   "outputs": [],
   "source": [
    "#first timestep not included in the constraint \n",
    "plot(constraint_check[2:end].>0)"
   ]
  },
  {
   "cell_type": "code",
   "execution_count": null,
   "metadata": {},
   "outputs": [],
   "source": [
    "all_utraj "
   ]
  },
  {
   "cell_type": "code",
   "execution_count": null,
   "metadata": {},
   "outputs": [],
   "source": [
    "all_utraj[:,1]  "
   ]
  },
  {
   "cell_type": "code",
   "execution_count": null,
   "metadata": {},
   "outputs": [],
   "source": [
    "all_utraj[:,2]  "
   ]
  },
  {
   "cell_type": "code",
   "execution_count": null,
   "metadata": {},
   "outputs": [],
   "source": [
    "all_utraj[:,3]  "
   ]
  }
 ],
 "metadata": {
  "kernelspec": {
   "display_name": "Julia 1.10.0",
   "language": "julia",
   "name": "julia-1.10"
  },
  "language_info": {
   "file_extension": ".jl",
   "mimetype": "application/julia",
   "name": "julia",
   "version": "1.10.0"
  }
 },
 "nbformat": 4,
 "nbformat_minor": 2
}
